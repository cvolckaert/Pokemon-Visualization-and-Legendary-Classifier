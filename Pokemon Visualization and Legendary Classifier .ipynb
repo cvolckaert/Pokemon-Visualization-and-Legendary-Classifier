{
 "cells": [
  {
   "cell_type": "code",
   "execution_count": 16,
   "metadata": {},
   "outputs": [
    {
     "data": {
      "text/html": [
       "<div>\n",
       "<style scoped>\n",
       "    .dataframe tbody tr th:only-of-type {\n",
       "        vertical-align: middle;\n",
       "    }\n",
       "\n",
       "    .dataframe tbody tr th {\n",
       "        vertical-align: top;\n",
       "    }\n",
       "\n",
       "    .dataframe thead th {\n",
       "        text-align: right;\n",
       "    }\n",
       "</style>\n",
       "<table border=\"1\" class=\"dataframe\">\n",
       "  <thead>\n",
       "    <tr style=\"text-align: right;\">\n",
       "      <th></th>\n",
       "      <th>#</th>\n",
       "      <th>Name</th>\n",
       "      <th>Type 1</th>\n",
       "      <th>Type 2</th>\n",
       "      <th>Total</th>\n",
       "      <th>HP</th>\n",
       "      <th>Attack</th>\n",
       "      <th>Defense</th>\n",
       "      <th>Sp. Atk</th>\n",
       "      <th>Sp. Def</th>\n",
       "      <th>Speed</th>\n",
       "      <th>Generation</th>\n",
       "      <th>Legendary</th>\n",
       "    </tr>\n",
       "  </thead>\n",
       "  <tbody>\n",
       "    <tr>\n",
       "      <th>0</th>\n",
       "      <td>1</td>\n",
       "      <td>Bulbasaur</td>\n",
       "      <td>Grass</td>\n",
       "      <td>Poison</td>\n",
       "      <td>318</td>\n",
       "      <td>45</td>\n",
       "      <td>49</td>\n",
       "      <td>49</td>\n",
       "      <td>65</td>\n",
       "      <td>65</td>\n",
       "      <td>45</td>\n",
       "      <td>1</td>\n",
       "      <td>False</td>\n",
       "    </tr>\n",
       "    <tr>\n",
       "      <th>1</th>\n",
       "      <td>2</td>\n",
       "      <td>Ivysaur</td>\n",
       "      <td>Grass</td>\n",
       "      <td>Poison</td>\n",
       "      <td>405</td>\n",
       "      <td>60</td>\n",
       "      <td>62</td>\n",
       "      <td>63</td>\n",
       "      <td>80</td>\n",
       "      <td>80</td>\n",
       "      <td>60</td>\n",
       "      <td>1</td>\n",
       "      <td>False</td>\n",
       "    </tr>\n",
       "    <tr>\n",
       "      <th>2</th>\n",
       "      <td>3</td>\n",
       "      <td>Venusaur</td>\n",
       "      <td>Grass</td>\n",
       "      <td>Poison</td>\n",
       "      <td>525</td>\n",
       "      <td>80</td>\n",
       "      <td>82</td>\n",
       "      <td>83</td>\n",
       "      <td>100</td>\n",
       "      <td>100</td>\n",
       "      <td>80</td>\n",
       "      <td>1</td>\n",
       "      <td>False</td>\n",
       "    </tr>\n",
       "    <tr>\n",
       "      <th>3</th>\n",
       "      <td>3</td>\n",
       "      <td>VenusaurMega Venusaur</td>\n",
       "      <td>Grass</td>\n",
       "      <td>Poison</td>\n",
       "      <td>625</td>\n",
       "      <td>80</td>\n",
       "      <td>100</td>\n",
       "      <td>123</td>\n",
       "      <td>122</td>\n",
       "      <td>120</td>\n",
       "      <td>80</td>\n",
       "      <td>1</td>\n",
       "      <td>False</td>\n",
       "    </tr>\n",
       "    <tr>\n",
       "      <th>4</th>\n",
       "      <td>4</td>\n",
       "      <td>Charmander</td>\n",
       "      <td>Fire</td>\n",
       "      <td>NaN</td>\n",
       "      <td>309</td>\n",
       "      <td>39</td>\n",
       "      <td>52</td>\n",
       "      <td>43</td>\n",
       "      <td>60</td>\n",
       "      <td>50</td>\n",
       "      <td>65</td>\n",
       "      <td>1</td>\n",
       "      <td>False</td>\n",
       "    </tr>\n",
       "  </tbody>\n",
       "</table>\n",
       "</div>"
      ],
      "text/plain": [
       "   #                   Name Type 1  Type 2  Total  HP  Attack  Defense  \\\n",
       "0  1              Bulbasaur  Grass  Poison    318  45      49       49   \n",
       "1  2                Ivysaur  Grass  Poison    405  60      62       63   \n",
       "2  3               Venusaur  Grass  Poison    525  80      82       83   \n",
       "3  3  VenusaurMega Venusaur  Grass  Poison    625  80     100      123   \n",
       "4  4             Charmander   Fire     NaN    309  39      52       43   \n",
       "\n",
       "   Sp. Atk  Sp. Def  Speed  Generation  Legendary  \n",
       "0       65       65     45           1      False  \n",
       "1       80       80     60           1      False  \n",
       "2      100      100     80           1      False  \n",
       "3      122      120     80           1      False  \n",
       "4       60       50     65           1      False  "
      ]
     },
     "execution_count": 16,
     "metadata": {},
     "output_type": "execute_result"
    }
   ],
   "source": [
    "#Libraries for data path and filtering out warnings\n",
    "import os\n",
    "import warnings\n",
    "warnings.filterwarnings('ignore')\n",
    "\n",
    "#Core data analysis and visualization libraries \n",
    "import pandas as pd \n",
    "import numpy as np \n",
    "import matplotlib.pyplot as plt\n",
    "import seaborn as sns\n",
    "%matplotlib inline\n",
    "\n",
    "#Data preprocessing, metrics, and model selection libraries \n",
    "from imblearn.over_sampling import SMOTE\n",
    "from sklearn.preprocessing import StandardScaler\n",
    "from sklearn.metrics import accuracy_score\n",
    "from sklearn.metrics import f1_score\n",
    "from sklearn.metrics import precision_score\n",
    "from sklearn.metrics import recall_score\n",
    "from sklearn.model_selection import train_test_split\n",
    "from sklearn.model_selection import cross_val_score\n",
    "from sklearn.model_selection import GridSearchCV\n",
    "\n",
    "#Model libraries \n",
    "from sklearn.linear_model import LogisticRegression\n",
    "from sklearn.neighbors import KNeighborsClassifier\n",
    "from sklearn.svm import SVC\n",
    "from sklearn.ensemble import RandomForestClassifier\n",
    "\n",
    "path = os.path.join('pokemon.csv')\n",
    "pokemon = pd.read_csv(path)\n",
    "pokemon.head()"
   ]
  },
  {
   "cell_type": "markdown",
   "metadata": {},
   "source": [
    "Let's take a look at some summary statistics for this dataset."
   ]
  },
  {
   "cell_type": "code",
   "execution_count": 17,
   "metadata": {},
   "outputs": [
    {
     "data": {
      "text/html": [
       "<div>\n",
       "<style scoped>\n",
       "    .dataframe tbody tr th:only-of-type {\n",
       "        vertical-align: middle;\n",
       "    }\n",
       "\n",
       "    .dataframe tbody tr th {\n",
       "        vertical-align: top;\n",
       "    }\n",
       "\n",
       "    .dataframe thead th {\n",
       "        text-align: right;\n",
       "    }\n",
       "</style>\n",
       "<table border=\"1\" class=\"dataframe\">\n",
       "  <thead>\n",
       "    <tr style=\"text-align: right;\">\n",
       "      <th></th>\n",
       "      <th>#</th>\n",
       "      <th>Total</th>\n",
       "      <th>HP</th>\n",
       "      <th>Attack</th>\n",
       "      <th>Defense</th>\n",
       "      <th>Sp. Atk</th>\n",
       "      <th>Sp. Def</th>\n",
       "      <th>Speed</th>\n",
       "      <th>Generation</th>\n",
       "    </tr>\n",
       "  </thead>\n",
       "  <tbody>\n",
       "    <tr>\n",
       "      <th>count</th>\n",
       "      <td>800.000000</td>\n",
       "      <td>800.00000</td>\n",
       "      <td>800.000000</td>\n",
       "      <td>800.000000</td>\n",
       "      <td>800.000000</td>\n",
       "      <td>800.000000</td>\n",
       "      <td>800.000000</td>\n",
       "      <td>800.000000</td>\n",
       "      <td>800.00000</td>\n",
       "    </tr>\n",
       "    <tr>\n",
       "      <th>mean</th>\n",
       "      <td>362.813750</td>\n",
       "      <td>435.10250</td>\n",
       "      <td>69.258750</td>\n",
       "      <td>79.001250</td>\n",
       "      <td>73.842500</td>\n",
       "      <td>72.820000</td>\n",
       "      <td>71.902500</td>\n",
       "      <td>68.277500</td>\n",
       "      <td>3.32375</td>\n",
       "    </tr>\n",
       "    <tr>\n",
       "      <th>std</th>\n",
       "      <td>208.343798</td>\n",
       "      <td>119.96304</td>\n",
       "      <td>25.534669</td>\n",
       "      <td>32.457366</td>\n",
       "      <td>31.183501</td>\n",
       "      <td>32.722294</td>\n",
       "      <td>27.828916</td>\n",
       "      <td>29.060474</td>\n",
       "      <td>1.66129</td>\n",
       "    </tr>\n",
       "    <tr>\n",
       "      <th>min</th>\n",
       "      <td>1.000000</td>\n",
       "      <td>180.00000</td>\n",
       "      <td>1.000000</td>\n",
       "      <td>5.000000</td>\n",
       "      <td>5.000000</td>\n",
       "      <td>10.000000</td>\n",
       "      <td>20.000000</td>\n",
       "      <td>5.000000</td>\n",
       "      <td>1.00000</td>\n",
       "    </tr>\n",
       "    <tr>\n",
       "      <th>25%</th>\n",
       "      <td>184.750000</td>\n",
       "      <td>330.00000</td>\n",
       "      <td>50.000000</td>\n",
       "      <td>55.000000</td>\n",
       "      <td>50.000000</td>\n",
       "      <td>49.750000</td>\n",
       "      <td>50.000000</td>\n",
       "      <td>45.000000</td>\n",
       "      <td>2.00000</td>\n",
       "    </tr>\n",
       "    <tr>\n",
       "      <th>50%</th>\n",
       "      <td>364.500000</td>\n",
       "      <td>450.00000</td>\n",
       "      <td>65.000000</td>\n",
       "      <td>75.000000</td>\n",
       "      <td>70.000000</td>\n",
       "      <td>65.000000</td>\n",
       "      <td>70.000000</td>\n",
       "      <td>65.000000</td>\n",
       "      <td>3.00000</td>\n",
       "    </tr>\n",
       "    <tr>\n",
       "      <th>75%</th>\n",
       "      <td>539.250000</td>\n",
       "      <td>515.00000</td>\n",
       "      <td>80.000000</td>\n",
       "      <td>100.000000</td>\n",
       "      <td>90.000000</td>\n",
       "      <td>95.000000</td>\n",
       "      <td>90.000000</td>\n",
       "      <td>90.000000</td>\n",
       "      <td>5.00000</td>\n",
       "    </tr>\n",
       "    <tr>\n",
       "      <th>max</th>\n",
       "      <td>721.000000</td>\n",
       "      <td>780.00000</td>\n",
       "      <td>255.000000</td>\n",
       "      <td>190.000000</td>\n",
       "      <td>230.000000</td>\n",
       "      <td>194.000000</td>\n",
       "      <td>230.000000</td>\n",
       "      <td>180.000000</td>\n",
       "      <td>6.00000</td>\n",
       "    </tr>\n",
       "  </tbody>\n",
       "</table>\n",
       "</div>"
      ],
      "text/plain": [
       "                #      Total          HP      Attack     Defense     Sp. Atk  \\\n",
       "count  800.000000  800.00000  800.000000  800.000000  800.000000  800.000000   \n",
       "mean   362.813750  435.10250   69.258750   79.001250   73.842500   72.820000   \n",
       "std    208.343798  119.96304   25.534669   32.457366   31.183501   32.722294   \n",
       "min      1.000000  180.00000    1.000000    5.000000    5.000000   10.000000   \n",
       "25%    184.750000  330.00000   50.000000   55.000000   50.000000   49.750000   \n",
       "50%    364.500000  450.00000   65.000000   75.000000   70.000000   65.000000   \n",
       "75%    539.250000  515.00000   80.000000  100.000000   90.000000   95.000000   \n",
       "max    721.000000  780.00000  255.000000  190.000000  230.000000  194.000000   \n",
       "\n",
       "          Sp. Def       Speed  Generation  \n",
       "count  800.000000  800.000000   800.00000  \n",
       "mean    71.902500   68.277500     3.32375  \n",
       "std     27.828916   29.060474     1.66129  \n",
       "min     20.000000    5.000000     1.00000  \n",
       "25%     50.000000   45.000000     2.00000  \n",
       "50%     70.000000   65.000000     3.00000  \n",
       "75%     90.000000   90.000000     5.00000  \n",
       "max    230.000000  180.000000     6.00000  "
      ]
     },
     "execution_count": 17,
     "metadata": {},
     "output_type": "execute_result"
    }
   ],
   "source": [
    "pokemon.describe()"
   ]
  },
  {
   "cell_type": "markdown",
   "metadata": {},
   "source": [
    "Now, let's take a look at the correlation between Pokemon stats"
   ]
  },
  {
   "cell_type": "code",
   "execution_count": 18,
   "metadata": {},
   "outputs": [
    {
     "data": {
      "text/plain": [
       "<matplotlib.axes._subplots.AxesSubplot at 0x1a1d2ab9b0>"
      ]
     },
     "execution_count": 18,
     "metadata": {},
     "output_type": "execute_result"
    },
    {
     "data": {
      "image/png": "[encoded data removed]",
      "text/plain": [
       "<Figure size 432x288 with 2 Axes>"
      ]
     },
     "metadata": {
      "needs_background": "light"
     },
     "output_type": "display_data"
    }
   ],
   "source": [
    "sns.heatmap( pokemon.loc[:, ['HP', 'Attack', \"Defense\", \"Sp. Atk\", 'Sp. Def', 'Speed']].corr(),cmap=\"viridis\")"
   ]
  },
  {
   "cell_type": "markdown",
   "metadata": {},
   "source": [
    "There looks to be a strong negative correlation between Defense and Speed. Maybe bulkier Pokemon are less fast as a result? "
   ]
  },
  {
   "cell_type": "markdown",
   "metadata": {},
   "source": [
    "Let's take a peek at the distribution of Pokemon across Pokemon types."
   ]
  },
  {
   "cell_type": "code",
   "execution_count": 19,
   "metadata": {},
   "outputs": [
    {
     "data": {
      "image/png": "[encoded data removed]",
      "text/plain": [
       "<Figure size 1080x360 with 1 Axes>"
      ]
     },
     "metadata": {
      "needs_background": "light"
     },
     "output_type": "display_data"
    }
   ],
   "source": [
    "plt.subplots(figsize = (15,5))\n",
    "sns.countplot(pokemon['Type 1'])\n",
    "plt.xlabel('Pokemon Type')\n",
    "plt.ylabel('Count')\n",
    "plt.title('Pokemon Counts by Type')\n",
    "plt.show()"
   ]
  },
  {
   "cell_type": "markdown",
   "metadata": {},
   "source": [
    "The largest grouping of Pokmeon types is Water, with the lowest count of types is Flying. "
   ]
  },
  {
   "cell_type": "markdown",
   "metadata": {},
   "source": [
    "Let's make a plot of Total Stats by Pokemon Types and a Total Stat distribution over all Pokemon"
   ]
  },
  {
   "cell_type": "code",
   "execution_count": 20,
   "metadata": {},
   "outputs": [
    {
     "data": {
      "image/png": "[encoded data removed]",
      "text/plain": [
       "<Figure size 1080x360 with 1 Axes>"
      ]
     },
     "metadata": {
      "needs_background": "light"
     },
     "output_type": "display_data"
    }
   ],
   "source": [
    "plt.subplots(figsize = (15,5))\n",
    "plt.title('Totals of Type 1')\n",
    "sns.boxplot(x = \"Type 1\", y = \"Total\",data = pokemon)\n",
    "plt.ylim(100,900)\n",
    "plt.xlabel('Pokemon Type')\n",
    "plt.ylabel('Stat Total')\n",
    "plt.title('Stat Totals by Pokemon Type')\n",
    "plt.show()"
   ]
  },
  {
   "cell_type": "markdown",
   "metadata": {},
   "source": []
  },
  {
   "cell_type": "code",
   "execution_count": 21,
   "metadata": {},
   "outputs": [
    {
     "data": {
      "text/plain": [
       "Text(0, 0.5, 'Percentage')"
      ]
     },
     "execution_count": 21,
     "metadata": {},
     "output_type": "execute_result"
    },
    {
     "data": {
      "image/png": "[encoded data removed]",
      "text/plain": [
       "<Figure size 432x288 with 1 Axes>"
      ]
     },
     "metadata": {
      "needs_background": "light"
     },
     "output_type": "display_data"
    }
   ],
   "source": [
    "sns.distplot(pokemon['Total'],color='Blue')\n",
    "plt.title('Distribution of Pokemon Stats')\n",
    "plt.xlabel('Total Stats')\n",
    "plt.ylabel('Percentage')"
   ]
  },
  {
   "cell_type": "markdown",
   "metadata": {},
   "source": [
    "Unsurprising to most Pokemon fans, the Dragon Type looks to have higher stats than the other Pokemon Types. It also looks like most Pokemon have total stats around 500, but another local maximum is at 300. \n",
    "\n",
    "We're interested in using machine learning techniques to predict if a Pokemon is a Legendary Pokemon so let's look at some visualizations. "
   ]
  },
  {
   "cell_type": "code",
   "execution_count": 22,
   "metadata": {},
   "outputs": [
    {
     "data": {
      "image/png": "[encoded data removed]",
      "text/plain": [
       "<Figure size 1080x360 with 1 Axes>"
      ]
     },
     "metadata": {
      "needs_background": "light"
     },
     "output_type": "display_data"
    }
   ],
   "source": [
    "plt.subplots(figsize = (15,5))\n",
    "sns.countplot(pokemon['Legendary'])\n",
    "plt.title('Legendary Pokemon Count')\n",
    "plt.show()"
   ]
  },
  {
   "cell_type": "code",
   "execution_count": 23,
   "metadata": {},
   "outputs": [
    {
     "data": {
      "text/plain": [
       "<matplotlib.axes._subplots.AxesSubplot at 0x1a1d65d5c0>"
      ]
     },
     "execution_count": 23,
     "metadata": {},
     "output_type": "execute_result"
    },
    {
     "data": {
      "image/png": "[encoded data removed]",
      "text/plain": [
       "<Figure size 1080x360 with 1 Axes>"
      ]
     },
     "metadata": {
      "needs_background": "light"
     },
     "output_type": "display_data"
    }
   ],
   "source": [
    "legends = pokemon[pokemon['Legendary'] == True]\n",
    "plt.subplots(figsize = (15,5))\n",
    "plt.title('Total stats by Legendary Pokemon Status')\n",
    "sns.violinplot(\n",
    "    x='Legendary',\n",
    "    y='Total',\n",
    "    palette = 'Pastel1',\n",
    "    data=pokemon,\n",
    ")"
   ]
  },
  {
   "cell_type": "markdown",
   "metadata": {},
   "source": [
    "Unsurprisingly, Legendary Pokemon have higher stat totals than non-Legendary Pokemon."
   ]
  },
  {
   "cell_type": "markdown",
   "metadata": {},
   "source": [
    "Now, let's set the groundwork for creating our Legendary Pokemon classifiers. We'll preprocess the data by selecting the features we will use, the different types of stats each pokemons, to predict whether or not a Pokemon is a Legendary. We will also normalize the data and then create our training and testing splits, keeping out 10% of our data for testing. Because there are a much larger amount of non-Legendary Pokemon than Legendary Pokemon, we will use the SMOTE (Synthetic Minority Over-sampling Technique) to compensate for this. What the SMOTE algorithm does it create an axis on which the data points lie, then generates new, synthetic data points along those axis to simulate new data for us to use. This way we will also have a balanced dataset to compare to our non-balanced dataset to run our models on"
   ]
  },
  {
   "cell_type": "code",
   "execution_count": 24,
   "metadata": {},
   "outputs": [],
   "source": [
    "#Data PreProcessing\n",
    "x = pokemon[[\"HP\",\"Attack\",\"Defense\",\"Sp. Atk\",\"Sp. Def\",\"Speed\"]]\n",
    "y = pokemon['Legendary']\n",
    "\n",
    "#Scale the data\n",
    "scaler = StandardScaler().fit(x)\n",
    "x = scaler.transform(x)\n",
    "y = y.astype(int)\n",
    "\n",
    "#Create training and testing data\n",
    "x_train,x_test,y_train,y_test=train_test_split(x,y,random_state=27,test_size=0.1)\n",
    "\n",
    "#Create SMOTE data \n",
    "\n",
    "sm = SMOTE(random_state = 7)\n",
    "\n",
    "x_sm, y_sm = sm.fit_sample(x, y)\n",
    "\n",
    "x_sm_train,x_sm_test,y_sm_train,y_sm_test = train_test_split(x_sm,y_sm,random_state=27,test_size = 0.1)"
   ]
  },
  {
   "cell_type": "markdown",
   "metadata": {},
   "source": [
    "Let's start off with a baseline. A good baseline for classifiers is the Logistic Regression algorithm. Considered more crude than the models that will follow it, the Logistic Regression model should give us a good accuracy to beat. I will be making use of Cross Validation to train this algorithm. What Cross Validation does is divide our training data into folds, and then trains the data on different folds and tests it on others. What this does is let us get more mileage out of our training data and let us preview what our test accuracy will be, without using our testing data. "
   ]
  },
  {
   "cell_type": "code",
   "execution_count": 42,
   "metadata": {},
   "outputs": [
    {
     "name": "stdout",
     "output_type": "stream",
     "text": [
      "94.0\n",
      "94.0\n"
     ]
    }
   ],
   "source": [
    "def log_reg_iterator(x_data, y_data, cv_choice):\n",
    "    logReg=LogisticRegression()\n",
    "    scores = cross_val_score(logReg, x_train, y_train, cv= cv_choice)\n",
    "    scores_avg = round(np.mean(scores),2)\n",
    "    print(scores_avg *100)\n",
    "    \n",
    "    \n",
    "log_reg_iterator(x_train,y_train, 10) \n",
    "log_reg_iterator(x_sm_train,y_sm_train, 10)"
   ]
  },
  {
   "cell_type": "markdown",
   "metadata": {},
   "source": [
    "94% training accuracy for both of our datasets. Not bad! But I think we can do better. \n",
    "\n",
    "Next, I will explore a few other models. K-Nearest Neighbors, Support Vector Machine, and Random Forest. To better optimize these models, I will be making use of the grid search function. This function lets us specify a range of values for the hyperparameters (values chosen by the model designer that impact how the model runs, for example, the value of K for the K-Nearest Neighbors Algorithm). Grid search will go through these options, and pick the hyperparameters that delivered the best results, also making use of Cross Validation."
   ]
  },
  {
   "cell_type": "code",
   "execution_count": 33,
   "metadata": {},
   "outputs": [
    {
     "name": "stdout",
     "output_type": "stream",
     "text": [
      "{'n_neighbors': 5} 94.6\n",
      "{'n_neighbors': 2} 97.89999999999999\n",
      "{'C': 10, 'gamma': 0.01} 94.0\n",
      "{'C': 10, 'gamma': 1} 98.3\n",
      "{'max_depth': 3, 'n_estimators': 50} 94.39999999999999\n",
      "{'max_depth': 17, 'n_estimators': 200} 98.0\n"
     ]
    }
   ],
   "source": [
    "n_neighbors_list = [x for x in range(1,11)]\n",
    "Cs = [0.001,0.01,0.1,1,10]\n",
    "gammas = [0.001,0.01,0.1,1]\n",
    "n_estimators_list = [x * 50 for x in range(1,11)]\n",
    "max_depth_list = [x for x in range(1,26)]\n",
    "model_list = [KNeighborsClassifier(),SVC(),RandomForestClassifier()]\n",
    "param_dict_list = [{'n_neighbors': n_neighbors_list},{'C': Cs, 'gamma': gammas}, {'n_estimators': n_estimators_list, \"max_depth\": max_depth_list}]\n",
    "\n",
    "def grid(model, param_dict_list,x,y,cv_folds):\n",
    "    grid_search = GridSearchCV(model, param_dict_list, cv= cv_folds)\n",
    "    grid_search.fit(x,y)\n",
    "    grid_search.best_params_\n",
    "    grid_search.best_score_\n",
    "    print(grid_search.best_params_, round(grid_search.best_score_,3) *100)\n",
    "    \n",
    "for idx in range(len(model_list)):\n",
    "    grid(model_list[idx], param_dict_list[idx],x_train,y_train,10)\n",
    "    grid(model_list[idx], param_dict_list[idx],x_sm_train,y_sm_train,10)\n"
   ]
  },
  {
   "cell_type": "markdown",
   "metadata": {},
   "source": [
    "Looks like the SMOTE dataset outperformed the non-SMOTE set in each of our models. The Support Vector Machine model with the SMOTE set performed the best, at 98.3%, followed closely by the Random Forest SMOTE set. \n",
    "\n",
    "Next, let's use these hyperparameters and run our models on the testing sets. I will be including F1, precision, and recall scores as well. The precision score will tell us how good our model is at finding true positives, while the recall score tells us how often the model finds the relevant points (true positives / true positives + false negatives). The F1 score is an average of the precision recall and is a good metric of the overall classification accuracy, a score of 1 being perfect and 0 being awful. "
   ]
  },
  {
   "cell_type": "code",
   "execution_count": 40,
   "metadata": {},
   "outputs": [
    {
     "name": "stdout",
     "output_type": "stream",
     "text": [
      "96.2 0.7692307692307693 1.0 0.625\n",
      "95.19999999999999 0.9523809523809523 0.9090909090909091 1.0\n",
      "97.5 0.8571428571428571 1.0 0.75\n",
      "96.6 0.9655172413793104 0.9333333333333333 1.0\n",
      "96.2 0.7692307692307693 1.0 0.625\n",
      "95.19999999999999 0.9523809523809523 0.9090909090909091 1.0\n",
      "95.0 0.6666666666666666 1.0 0.5\n",
      "99.3 0.9929078014184397 0.9859154929577465 1.0\n"
     ]
    }
   ],
   "source": [
    "#After optimizing hyperparameters and choosing best version of each model, run them together here\n",
    "model_list = [LogisticRegression(),KNeighborsClassifier(n_neighbors = 5), SVC(C = 10, gamma = 0.01), RandomForestClassifier(n_estimators=50, max_depth=3)]\n",
    "\n",
    "model_list_sm = [LogisticRegression(),KNeighborsClassifier(n_neighbors = 2), SVC(C = 10, gamma = 1), RandomForestClassifier(n_estimators=200, max_depth=17)]\n",
    "\n",
    "#Run each model, get accuracy and classification metrics\n",
    "def model_iterator(model, x_training, y_training, x_testing, y_testing):\n",
    "    clf = model\n",
    "    clf.fit(x_training, y_training)\n",
    "    y_pred = model.predict(x_testing)\n",
    "    print(round(accuracy_score(y_testing, y_pred),3) *100,f1_score(y_testing, y_pred),precision_score(y_testing, y_pred), recall_score(y_testing, y_pred))\n",
    "\n",
    "for idx,clf in enumerate(model_list):\n",
    "    model_iterator(model_list[idx],x_train,y_train, x_test,y_test)\n",
    "    model_iterator(model_list[idx],x_sm_train, y_sm_train, x_sm_test,y_sm_test)\n",
    "    "
   ]
  },
  {
   "cell_type": "markdown",
   "metadata": {},
   "source": [
    "The model that performed the best was the Random Forest on the SMOTE dataset with a whopping 99.3% accuracy. This is pretty good. It also had a perfect recall score and a very high F1 score! \n",
    "\n",
    "To finish off, let's peak at the importance of each feature in the Random Forest Model"
   ]
  },
  {
   "cell_type": "code",
   "execution_count": 41,
   "metadata": {},
   "outputs": [
    {
     "data": {
      "text/plain": [
       "<matplotlib.axes._subplots.AxesSubplot at 0x1a1d70e5c0>"
      ]
     },
     "execution_count": 41,
     "metadata": {},
     "output_type": "execute_result"
    },
    {
     "data": {
      "image/png": "[encoded data removed]",
      "text/plain": [
       "<Figure size 432x288 with 1 Axes>"
      ]
     },
     "metadata": {
      "needs_background": "light"
     },
     "output_type": "display_data"
    }
   ],
   "source": [
    "features_arr = [\"HP\",\"Attack\",\"Defense\",\"Sp. Atk\",\"Sp. Def\",\"Speed\"]\n",
    "clf = RandomForestClassifier(n_estimators=200, max_depth=17)\n",
    "clf.fit(x_train,y_train)\n",
    "\n",
    "feat_importances = pd.Series(clf.feature_importances_, index=features_arr)\n",
    "feat_importances.plot(kind='barh',grid=True, title = \"Feature Importance for Random Tree\")"
   ]
  },
  {
   "cell_type": "markdown",
   "metadata": {},
   "source": [
    "It looks like Special Attack and Speed are the most important features when predicting a Legendary Pokemon!"
   ]
  }
 ],
 "metadata": {
  "kernelspec": {
   "display_name": "Python 3",
   "language": "python",
   "name": "python3"
  },
  "language_info": {
   "codemirror_mode": {
    "name": "ipython",
    "version": 3
   },
   "file_extension": ".py",
   "mimetype": "text/x-python",
   "name": "python",
   "nbconvert_exporter": "python",
   "pygments_lexer": "ipython3",
   "version": "3.7.1"
  }
 },
 "nbformat": 4,
 "nbformat_minor": 2
}
